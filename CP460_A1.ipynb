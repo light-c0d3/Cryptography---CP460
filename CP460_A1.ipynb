{
  "nbformat": 4,
  "nbformat_minor": 0,
  "metadata": {
    "colab": {
      "provenance": [],
      "authorship_tag": "ABX9TyMIB/iXRYbdooaL9c8udMie",
      "include_colab_link": true
    },
    "kernelspec": {
      "name": "python3",
      "display_name": "Python 3"
    },
    "language_info": {
      "name": "python"
    }
  },
  "cells": [
    {
      "cell_type": "markdown",
      "metadata": {
        "id": "view-in-github",
        "colab_type": "text"
      },
      "source": [
        "<a href=\"https://colab.research.google.com/github/light-c0d3/Cryptography---CP460/blob/main/CP460_A1.ipynb\" target=\"_parent\"><img src=\"https://colab.research.google.com/assets/colab-badge.svg\" alt=\"Open In Colab\"/></a>"
      ]
    },
    {
      "cell_type": "markdown",
      "source": [
        "CP460 - Assignment #1\n",
        "\n",
        "Student:\n",
        "\n",
        "ID:"
      ],
      "metadata": {
        "id": "8iYq-5cdasVn"
      }
    },
    {
      "cell_type": "code",
      "source": [
        "# Task 1\n",
        "## Encoded Shift Cipher\n",
        "### Implement a function --> LETTER FREQUENCY ATTACK (based on table 1.1 and 1.2.2 from text)\n",
        "\n",
        "### How many letters needed to identify to recover the key? Whats the cleartext?\n",
        "\n",
        "\n",
        "# Task 2\n",
        "## Affine Cipher\n",
        "### 2 functions [encrypt and decrypt], k consists of 2 interegers (a,b) both in {1-25} BUT NOT DIVISIBLE BY 2 or 13\n",
        "#### leave any non alpha unchanged.\n",
        "\n",
        "### k = (7, 22) now decrypt cipher text with AffineDecrypt(k, cipheertext)\n",
        "#### ciphertext = []"
      ],
      "metadata": {
        "id": "lhPxfgn4auQ3"
      },
      "execution_count": null,
      "outputs": []
    },
    {
      "cell_type": "code",
      "source": [
        "# Shift Cipher & LFA\n",
        "\n",
        "letterFreq = {'A': 0.0, 'B': 0.0, 'C': 0.0, 'D': 0.0, 'E': 0.0, 'F': 0.0, 'G': 0.0, 'H': 0.0, 'I': 0.0, 'J': 0.0, 'K': 0.0, 'L': 0.0, 'M': 0.0, 'N': 0.0, 'O': 0.0, 'P': 0.0, 'Q': 0.0, 'R': 0.0, 'S': 0.0, 'T': 0.0, 'U': 0.0, 'V': 0.0, 'W': 0.0, 'X': 0.0, 'Y': 0.0, 'Z': 0.0}\n",
        "letterFreqEng = {'A': 0.0817, 'B': 0.0150, 'C': 0.0278, 'D': 0.0425, 'E': 0.1270, 'F':0.0223, 'G': 0.0202, 'H': 0.0609, 'I': 0.0697, 'J': 0.0015, 'K': 0.0077, 'L': 0.0403, 'M': 0.0241, 'N': 0.0675, 'O': 0.0751, 'P': 0.0193, 'Q': 0.0010, 'R': 0.0599, 'S': 0.0633, 'T': 0.0906, 'U': 0.0276, 'V': 0.0098, 'W': 0.0236, 'X': 0.0015, 'Y': 0.0197, 'Z': 0.0007}\n",
        "shift_num = 0\n",
        "\n",
        "def LetterFreqAttack(cipher):\n",
        "\n",
        "  alphabet = \"ABCDEFGHIJKLMNOPQRSTUVWXYZ\"\n",
        "  total_letters = 0.0\n",
        "\n",
        "  for letter in cipher:\n",
        "    # letter freq for cipher update (this counts them)\n",
        "    if letter.isalpha():\n",
        "      letter = letter.upper()\n",
        "      letterFreq[letter] += 1.0\n",
        "\n",
        "      # to get the total letters in ciphertext\n",
        "      total_letters += 1\n",
        "\n",
        "  # letter frequency divide by total letters for average\n",
        "  for vals in letterFreq:\n",
        "    letterFreq[vals] /= total_letters\n",
        "\n",
        "\n",
        "  # Compare with English letter frequencies \"e\" for max\n",
        "  # sort dictrionary values\n",
        "  # find the shift if it is e and if not move to next max\n",
        "  #letterFreq.values # this returns a view object .sort() doesnt work\n",
        "\n",
        "  #sort_letterFreq = sorted(letterFreq.values(), reverse=True) # this only sorts the values and doesnt sort them as pairs\n",
        "  sort_letterFreq = sorted(letterFreq.items(), key=lambda item: item[1], reverse=True)\n",
        "  # this will give a list of tuples - descending order\n",
        "\n",
        "  #sort the english one too\n",
        "  mostFreqEng = sorted(letterFreqEng.items(), key=lambda item: item[1], reverse=True)\n",
        "\n",
        "\n",
        "  # now make a loop that in worst case will go over ever letter - 26 times\n",
        "  # the max freq letter will be changed with \"e\"\n",
        "  # calculate the shift when it becomes e\n",
        "  # apply the shift to all of them [in dictionary] - make sure its wrapped [modulo]\n",
        "\n",
        "  for i in range(26):\n",
        "    max_freq_cipher = sort_letterFreq[i][0]\n",
        "    max_freq_eng = mostFreqEng[i][0]\n",
        "\n",
        "    print(max_freq_cipher, max_freq_eng) # T , E so t will become e\n",
        "\n",
        "    # get the index numbers from alphabet because rn the order in dict are messed up not ordered in alphabet but in freq\n",
        "    cipher_index = alphabet.index(max_freq_cipher) # for cipher T = 20\n",
        "    eng_index = alphabet.index(max_freq_eng) # for plaintext E = 5\n",
        "\n",
        "    shift_num = (cipher_index - eng_index) % 26 # modulo 26 to wrap it around\n",
        "    # print(shift_num) # shift is 15 for first iteration\n",
        "\n",
        "    # now apply the shift to all letters in cipher\n",
        "    possible = \"\"\n",
        "\n",
        "    for letter in cipher:\n",
        "      if letter.isalpha():\n",
        "        letter = letter.upper()\n",
        "        # get the index num + add the shift to that value\n",
        "        new_index = (alphabet.index(letter) - shift_num) % 26\n",
        "        new_letter = alphabet[new_index]\n",
        "        possible += new_letter\n",
        "      else:\n",
        "        possible += letter\n",
        "\n",
        "    print(possible)\n",
        "\n",
        "\n",
        "\n",
        "\n",
        "  print(letterFreq)\n",
        "  return prolly_plaintext\n",
        "\n",
        "\n",
        "\n",
        "\n",
        "ciphertext = \"Xultpaajcxitltlxaarpjhtiwtgxktghidhipxciwtvgtpilpitghlxiwiwtxgqadds.\"\n",
        "\n",
        "proly_plaintext = LetterFreqAttack(ciphertext)\n",
        "print(proly_plaintext)\n"
      ],
      "metadata": {
        "colab": {
          "base_uri": "https://localhost:8080/"
        },
        "id": "IBPm4xZHcahU",
        "outputId": "e6d51767-4901-4c57-8170-39cf74d0ff90"
      },
      "execution_count": 12,
      "outputs": [
        {
          "output_type": "stream",
          "name": "stdout",
          "text": [
            "T E\n",
            "IFWEALLUNITEWEWILLCAUSETHERIVERSTOSTAINTHEGREATWATERSWITHTHEIRBLOOD.\n",
            "I T\n",
            "IFWEALLUNITEWEWILLCAUSETHERIVERSTOSTAINTHEGREATWATERSWITHTHEIRBLOOD.\n",
            "X A\n",
            "AXOWSDDMFALWOWOADDUSMKWLZWJANWJKLGKLSAFLZWYJWSLOSLWJKOALZLZWAJTDGGV.\n",
            "A O\n",
            "LIZHDOOXQLWHZHZLOOFDXVHWKHULYHUVWRVWDLQWKHJUHDWZDWHUVZLWKWKHLUEORRG.\n",
            "G I\n",
            "ZWNVRCCLEZKVNVNZCCTRLJVKYVIZMVIJKFJKRZEKYVXIVRKNRKVIJNZKYKYVZISCFFU.\n",
            "L N\n",
            "ZWNVRCCLEZKVNVNZCCTRLJVKYVIZMVIJKFJKRZEKYVXIVRKNRKVIJNZKYKYVZISCFFU.\n",
            "P S\n",
            "AXOWSDDMFALWOWOADDUSMKWLZWJANWJKLGKLSAFLZWYJWSLOSLWJKOALZLZWAJTDGGV.\n",
            "H H\n",
            "XULTPAAJCXITLTLXAARPJHTIWTGXKTGHIDHIPXCIWTVGTPILPITGHLXIWIWTXGQADDS.\n",
            "W R\n",
            "SPGOKVVEXSDOGOGSVVMKECODROBSFOBCDYCDKSXDROQBOKDGKDOBCGSDRDROSBLVYYN.\n",
            "D D\n",
            "XULTPAAJCXITLTLXAARPJHTIWTGXKTGHIDHIPXCIWTVGTPILPITGHLXIWIWTXGQADDS.\n",
            "C L\n",
            "GDUCYJJSLGRCUCUGJJAYSQCRFCPGTCPQRMQRYGLRFCEPCYRUYRCPQUGRFRFCGPZJMMB.\n",
            "J C\n",
            "QNEMITTCVQBMEMEQTTKICAMBPMZQDMZABWABIQVBPMOZMIBEIBMZAEQBPBPMQZJTWWL.\n",
            "K U\n",
            "HEVDZKKTMHSDVDVHKKBZTRDSGDQHUDQRSNRSZHMSGDFQDZSVZSDQRVHSGSGDHQAKNNC.\n",
            "Q M\n",
            "TQHPLWWFYTEPHPHTWWNLFDPESPCTGPCDEZDELTYESPRCPLEHLEPCDHTESESPTCMWZZO.\n",
            "R W\n",
            "CZQYUFFOHCNYQYQCFFWUOMYNBYLCPYLMNIMNUCHNBYALYUNQUNYLMQCNBNBYCLVFIIX.\n",
            "S F\n",
            "KHYGCNNWPKVGYGYKNNECWUGVJGTKXGTUVQUVCKPVJGITGCVYCVGTUYKVJVJGKTDNQQF.\n",
            "U G\n",
            "JGXFBMMVOJUFXFXJMMDBVTFUIFSJWFSTUPTUBJOUIFHSFBUXBUFSTXJUIUIFJSCMPPE.\n",
            "V Y\n",
            "AXOWSDDMFALWOWOADDUSMKWLZWJANWJKLGKLSAFLZWYJWSLOSLWJKOALZLZWAJTDGGV.\n",
            "B P\n",
            "LIZHDOOXQLWHZHZLOOFDXVHWKHULYHUVWRVWDLQWKHJUHDWZDWHUVZLWKWKHLUEORRG.\n",
            "E B\n",
            "URIQMXXGZUFQIQIUXXOMGEQFTQDUHQDEFAEFMUZFTQSDQMFIMFQDEIUFTFTQUDNXAAP.\n",
            "F V\n",
            "NKBJFQQZSNYJBJBNQQHFZXJYMJWNAJWXYTXYFNSYMJLWJFYBFYJWXBNYMYMJNWGQTTI.\n",
            "M K\n",
            "VSJRNYYHAVGRJRJVYYPNHFRGUREVIREFGBFGNVAGURTERNGJNGREFJVGUGURVEOYBBQ.\n",
            "N J\n",
            "TQHPLWWFYTEPHPHTWWNLFDPESPCTGPCDEZDELTYESPRCPLEHLEPCDHTESESPTCMWZZO.\n",
            "O X\n",
            "GDUCYJJSLGRCUCUGJJAYSQCRFCPGTCPQRMQRYGLRFCEPCYRUYRCPQUGRFRFCGPZJMMB.\n",
            "Y Q\n",
            "PMDLHSSBUPALDLDPSSJHBZLAOLYPCLYZAVZAHPUAOLNYLHADHALYZDPAOAOLPYISVVK.\n",
            "Z Z\n",
            "XULTPAAJCXITLTLXAARPJHTIWTGXKTGHIDHIPXCIWTVGTPILPITGHLXIWIWTXGQADDS.\n",
            "{'A': 0.07462686567164178, 'B': 0.0, 'C': 0.029850746268656716, 'D': 0.04477611940298507, 'E': 0.0, 'F': 0.0, 'G': 0.07462686567164178, 'H': 0.05970149253731343, 'I': 0.13432835820895522, 'J': 0.029850746268656716, 'K': 0.014925373134328358, 'L': 0.07462686567164178, 'M': 0.0, 'N': 0.0, 'O': 0.0, 'P': 0.07462686567164178, 'Q': 0.014925373134328358, 'R': 0.014925373134328358, 'S': 0.014925373134328358, 'T': 0.14925373134328357, 'U': 0.014925373134328358, 'V': 0.014925373134328358, 'W': 0.05970149253731343, 'X': 0.1044776119402985, 'Y': 0.0, 'Z': 0.0}\n",
            "xxx\n"
          ]
        }
      ]
    }
  ]
}